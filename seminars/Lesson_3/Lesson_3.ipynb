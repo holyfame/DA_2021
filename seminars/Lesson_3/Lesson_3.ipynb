{
 "cells": [
  {
   "cell_type": "markdown",
   "id": "041305f8",
   "metadata": {
    "tags": []
   },
   "source": [
    "Семинар 3 (неделя 4): Нормальное распределение и проблемы в данных\n",
    "=====\n",
    "\n",
    "# Нормальное распределение"
   ]
  },
  {
   "cell_type": "code",
   "execution_count": 1,
   "id": "cc16cd8e",
   "metadata": {},
   "outputs": [],
   "source": [
    "# Импорт библиотек для работы со статистикой\n",
    "import pandas as pd\n",
    "import numpy as np\n",
    "\n",
    "# Импорт библиотек для построения графиков\n",
    "import matplotlib.pyplot as plt\n",
    "import seaborn as sns\n",
    "\n",
    "plt.style.use('ggplot')    #ggplot\n",
    "%matplotlib inline"
   ]
  },
  {
   "cell_type": "code",
   "execution_count": 2,
   "id": "4538898a",
   "metadata": {},
   "outputs": [
    {
     "data": {
      "text/html": [
       "<div>\n",
       "<style scoped>\n",
       "    .dataframe tbody tr th:only-of-type {\n",
       "        vertical-align: middle;\n",
       "    }\n",
       "\n",
       "    .dataframe tbody tr th {\n",
       "        vertical-align: top;\n",
       "    }\n",
       "\n",
       "    .dataframe thead th {\n",
       "        text-align: right;\n",
       "    }\n",
       "</style>\n",
       "<table border=\"1\" class=\"dataframe\">\n",
       "  <thead>\n",
       "    <tr style=\"text-align: right;\">\n",
       "      <th></th>\n",
       "      <th>mpg</th>\n",
       "      <th>cylinders</th>\n",
       "      <th>displacement</th>\n",
       "      <th>horsepower</th>\n",
       "      <th>weight</th>\n",
       "      <th>acceleration</th>\n",
       "      <th>model_year</th>\n",
       "      <th>origin</th>\n",
       "      <th>name</th>\n",
       "    </tr>\n",
       "  </thead>\n",
       "  <tbody>\n",
       "    <tr>\n",
       "      <th>0</th>\n",
       "      <td>18.0</td>\n",
       "      <td>8</td>\n",
       "      <td>307.0</td>\n",
       "      <td>130.0</td>\n",
       "      <td>3504</td>\n",
       "      <td>12.0</td>\n",
       "      <td>70</td>\n",
       "      <td>usa</td>\n",
       "      <td>chevrolet chevelle malibu</td>\n",
       "    </tr>\n",
       "    <tr>\n",
       "      <th>1</th>\n",
       "      <td>15.0</td>\n",
       "      <td>8</td>\n",
       "      <td>350.0</td>\n",
       "      <td>165.0</td>\n",
       "      <td>3693</td>\n",
       "      <td>11.5</td>\n",
       "      <td>70</td>\n",
       "      <td>usa</td>\n",
       "      <td>buick skylark 320</td>\n",
       "    </tr>\n",
       "    <tr>\n",
       "      <th>2</th>\n",
       "      <td>18.0</td>\n",
       "      <td>8</td>\n",
       "      <td>318.0</td>\n",
       "      <td>150.0</td>\n",
       "      <td>3436</td>\n",
       "      <td>11.0</td>\n",
       "      <td>70</td>\n",
       "      <td>usa</td>\n",
       "      <td>plymouth satellite</td>\n",
       "    </tr>\n",
       "    <tr>\n",
       "      <th>3</th>\n",
       "      <td>16.0</td>\n",
       "      <td>8</td>\n",
       "      <td>304.0</td>\n",
       "      <td>150.0</td>\n",
       "      <td>3433</td>\n",
       "      <td>12.0</td>\n",
       "      <td>70</td>\n",
       "      <td>usa</td>\n",
       "      <td>amc rebel sst</td>\n",
       "    </tr>\n",
       "    <tr>\n",
       "      <th>4</th>\n",
       "      <td>17.0</td>\n",
       "      <td>8</td>\n",
       "      <td>302.0</td>\n",
       "      <td>140.0</td>\n",
       "      <td>3449</td>\n",
       "      <td>10.5</td>\n",
       "      <td>70</td>\n",
       "      <td>usa</td>\n",
       "      <td>ford torino</td>\n",
       "    </tr>\n",
       "  </tbody>\n",
       "</table>\n",
       "</div>"
      ],
      "text/plain": [
       "    mpg  cylinders  displacement  horsepower  weight  acceleration  \\\n",
       "0  18.0          8         307.0       130.0    3504          12.0   \n",
       "1  15.0          8         350.0       165.0    3693          11.5   \n",
       "2  18.0          8         318.0       150.0    3436          11.0   \n",
       "3  16.0          8         304.0       150.0    3433          12.0   \n",
       "4  17.0          8         302.0       140.0    3449          10.5   \n",
       "\n",
       "   model_year origin                       name  \n",
       "0          70    usa  chevrolet chevelle malibu  \n",
       "1          70    usa          buick skylark 320  \n",
       "2          70    usa         plymouth satellite  \n",
       "3          70    usa              amc rebel sst  \n",
       "4          70    usa                ford torino  "
      ]
     },
     "execution_count": 2,
     "metadata": {},
     "output_type": "execute_result"
    }
   ],
   "source": [
    "# Чтение датасета с помощью pandas\n",
    "CarsDS = pd.read_csv('mpg.csv', sep=\",\")\n",
    "\n",
    "# Демонстрация первых 5 строк таблицы\n",
    "CarsDS.head()"
   ]
  },
  {
   "cell_type": "markdown",
   "id": "6279f4ef",
   "metadata": {},
   "source": [
    "Отображаем нужные столбцы разными способами:"
   ]
  },
  {
   "cell_type": "markdown",
   "id": "0d0a7b1c",
   "metadata": {},
   "source": [
    "Переводим единицы измерений в понятные величины:"
   ]
  },
  {
   "cell_type": "code",
   "execution_count": 3,
   "id": "82155d0e",
   "metadata": {},
   "outputs": [],
   "source": [
    "# mpg --> liters per 100 km\n",
    "mile = 1.609 #km\n",
    "gallon = 3.785 #l\n",
    "inch = 2.54 #cm\n",
    "lbs = 0.4536 #kg\n",
    "\n",
    "CarsDS['lpk'] = mile * gallon * 100 / CarsDS['mpg']\n",
    "CarsDS['env'] = CarsDS['displacement'] * inch**3 / 1000\n",
    "CarsDS['mass'] = CarsDS['weight'] * lbs / 1000 "
   ]
  },
  {
   "cell_type": "markdown",
   "id": "5f363c78",
   "metadata": {},
   "source": [
    "### Одномерное нормальное распределение"
   ]
  },
  {
   "cell_type": "code",
   "execution_count": 4,
   "id": "fac189a7",
   "metadata": {},
   "outputs": [],
   "source": [
    "def pdf_gaussian(sigma, mean, x):\n",
    "  Z = np.sqrt(2.0*np.pi*sigma**2) # нормализующая константа\n",
    "  pdf_z = np.exp(-((x - mean)**2/(2.0*sigma**2)))/Z # \n",
    "  return pdf_z\n",
    "\n",
    "x, dx = np.linspace(-3 ,3,300, retstep = True)"
   ]
  },
  {
   "cell_type": "code",
   "execution_count": 5,
   "id": "f9f82d96",
   "metadata": {},
   "outputs": [
    {
     "data": {
      "text/plain": [
       "<matplotlib.legend.Legend at 0x1c51a70ebe0>"
      ]
     },
     "execution_count": 5,
     "metadata": {},
     "output_type": "execute_result"
    },
    {
     "data": {
      "image/png": "[encoded data removed]",
      "text/plain": [
       "<Figure size 432x288 with 1 Axes>"
      ]
     },
     "metadata": {
      "needs_background": "light"
     },
     "output_type": "display_data"
    }
   ],
   "source": [
    "pdf_1 = pdf_gaussian(0.2, 0.0, x)\n",
    "pdf_2 = pdf_gaussian(0.4, -1.0, x)\n",
    "pdf_3 = pdf_gaussian(0.6, 1.0, x)\n",
    "plt.plot(x, pdf_1, label = '$\\sigma$ = 0.2')\n",
    "plt.plot(x, pdf_2,label = '$\\sigma$ = 0.4')\n",
    "plt.plot(x, pdf_3,label = '$\\sigma$ = 0.6')\n",
    "plt.xlabel(\"x\",fontsize = 14)\n",
    "plt.ylabel(\"$f(x)$\",fontsize = 14)\n",
    "plt.legend()"
   ]
  },
  {
   "cell_type": "code",
   "execution_count": 6,
   "id": "7630be0f",
   "metadata": {},
   "outputs": [
    {
     "data": {
      "image/png": "[encoded data removed]",
      "text/plain": [
       "<Figure size 432x288 with 1 Axes>"
      ]
     },
     "metadata": {
      "needs_background": "light"
     },
     "output_type": "display_data"
    }
   ],
   "source": [
    "mu, sigma = 0, 0.1 # матожидание и стандартное отклонение\n",
    "s = np.random.normal(mu, sigma, 1000)\n",
    "plt.plot(s, 'b.');"
   ]
  },
  {
   "cell_type": "code",
   "execution_count": 7,
   "id": "cd6c7def",
   "metadata": {},
   "outputs": [
    {
     "data": {
      "image/png": "[encoded data removed]",
      "text/plain": [
       "<Figure size 432x288 with 1 Axes>"
      ]
     },
     "metadata": {
      "needs_background": "light"
     },
     "output_type": "display_data"
    }
   ],
   "source": [
    "plt.hist(s, 30);"
   ]
  },
  {
   "cell_type": "markdown",
   "id": "2506174f",
   "metadata": {},
   "source": [
    "### Двумерное нормальное распределение"
   ]
  },
  {
   "cell_type": "code",
   "execution_count": 8,
   "id": "416ce406",
   "metadata": {},
   "outputs": [
    {
     "data": {
      "image/png": "[encoded data removed]",
      "text/plain": [
       "<Figure size 432x288 with 1 Axes>"
      ]
     },
     "metadata": {
      "needs_background": "light"
     },
     "output_type": "display_data"
    }
   ],
   "source": [
    "data = np.random.multivariate_normal([0, 0], [[0.8, 0.5], [0.5, 0.7]], 1000)\n",
    "x = data[:, 0]\n",
    "y = data[:, 1]\n",
    "plt.plot(x, y, 'r.');"
   ]
  },
  {
   "cell_type": "code",
   "execution_count": 9,
   "id": "811e9bc0",
   "metadata": {},
   "outputs": [
    {
     "data": {
      "image/png": "[encoded data removed]",
      "text/plain": [
       "<Figure size 432x288 with 1 Axes>"
      ]
     },
     "metadata": {
      "needs_background": "light"
     },
     "output_type": "display_data"
    }
   ],
   "source": [
    "mean1 = [0, 0]\n",
    "cov1 = [[1, 0.5], [0.5, 1]]\n",
    "\n",
    "mean2 = [1, 1]\n",
    "cov2 = [[1, 0], [0, 1]]\n",
    "\n",
    "data2 = np.random.multivariate_normal(mean1, cov1, 1000) +  np.random.multivariate_normal(mean2, cov2, 1000)\n",
    "plt.plot(data2[:, 0], data2[:, 1], 'r.');"
   ]
  },
  {
   "cell_type": "markdown",
   "id": "acb068c1",
   "metadata": {
    "tags": []
   },
   "source": [
    "### Ядерная оценка плотности"
   ]
  },
  {
   "cell_type": "code",
   "execution_count": 10,
   "id": "8d5ad37c",
   "metadata": {},
   "outputs": [
    {
     "data": {
      "image/png": "[encoded data removed]",
      "text/plain": [
       "<Figure size 432x288 with 1 Axes>"
      ]
     },
     "metadata": {
      "needs_background": "light"
     },
     "output_type": "display_data"
    }
   ],
   "source": [
    "CarsDS['horsepower'].hist(bins=20);"
   ]
  },
  {
   "cell_type": "code",
   "execution_count": 11,
   "id": "194a3818",
   "metadata": {},
   "outputs": [
    {
     "data": {
      "image/png": "[encoded data removed]",
      "text/plain": [
       "<Figure size 432x288 with 1 Axes>"
      ]
     },
     "metadata": {
      "needs_background": "light"
     },
     "output_type": "display_data"
    }
   ],
   "source": [
    "CarsDS['horsepower'].plot.kde( bw_method = 0.1 );"
   ]
  },
  {
   "cell_type": "markdown",
   "id": "14ea56f4",
   "metadata": {},
   "source": [
    "Kernel Density Estimation in Python\n",
    "https://jakevdp.github.io/blog/2013/12/01/kernel-density-estimation/"
   ]
  },
  {
   "cell_type": "code",
   "execution_count": 12,
   "id": "439c5f42",
   "metadata": {},
   "outputs": [
    {
     "data": {
      "text/plain": [
       "(array([[ 0.,  0.,  0.,  1.,  1.,  0.,  3.,  0.,  0.,  0.],\n",
       "        [ 0.,  3.,  6.,  4.,  3.,  2.,  2.,  0.,  0.,  0.],\n",
       "        [ 1.,  3., 10., 18., 11., 16., 11.,  4.,  1.,  0.],\n",
       "        [ 0.,  3., 15., 24., 43., 35., 29., 23.,  6.,  4.],\n",
       "        [ 1.,  5., 33., 41., 61., 61., 52., 26.,  8.,  2.],\n",
       "        [ 0.,  5.,  7., 28., 48., 60., 43., 33.,  9.,  6.],\n",
       "        [ 1.,  1.,  3., 22., 21., 35., 34., 17.,  5.,  2.],\n",
       "        [ 0.,  1.,  2.,  3.,  3., 11., 10.,  9.,  0.,  2.],\n",
       "        [ 0.,  0.,  0.,  0.,  1.,  0.,  1.,  3.,  0.,  0.],\n",
       "        [ 0.,  0.,  0.,  0.,  0.,  0.,  0.,  1.,  0.,  1.]]),\n",
       " array([-3.72176612, -2.71776702, -1.71376792, -0.70976883,  0.29423027,\n",
       "         1.29822937,  2.30222846,  3.30622756,  4.31022666,  5.31422575,\n",
       "         6.31822485]),\n",
       " array([-3.20854835, -2.39318474, -1.57782114, -0.76245753,  0.05290607,\n",
       "         0.86826968,  1.68363329,  2.49899689,  3.3143605 ,  4.12972411,\n",
       "         4.94508771]),\n",
       " <matplotlib.collections.QuadMesh at 0x1c51adf16a0>)"
      ]
     },
     "execution_count": 12,
     "metadata": {},
     "output_type": "execute_result"
    },
    {
     "data": {
      "image/png": "[encoded data removed]",
      "text/plain": [
       "<Figure size 360x360 with 1 Axes>"
      ]
     },
     "metadata": {
      "needs_background": "light"
     },
     "output_type": "display_data"
    }
   ],
   "source": [
    "plt.rcParams[\"figure.figsize\"] = (5,5)\n",
    "plt.hist2d(data2[:, 0], data2[:, 1], bins = 10, cmap = 'viridis')"
   ]
  },
  {
   "cell_type": "code",
   "execution_count": 13,
   "id": "fa3f6202",
   "metadata": {},
   "outputs": [
    {
     "data": {
      "image/png": "[encoded data removed]",
      "text/plain": [
       "<Figure size 360x360 with 1 Axes>"
      ]
     },
     "metadata": {
      "needs_background": "light"
     },
     "output_type": "display_data"
    }
   ],
   "source": [
    "plt.hist2d(data2[:, 0], data2[:, 1], bins = 20, cmap = 'viridis');"
   ]
  },
  {
   "cell_type": "code",
   "execution_count": 14,
   "id": "c4fa35e5",
   "metadata": {},
   "outputs": [
    {
     "data": {
      "text/plain": [
       "(-3.7217661187083078, 6.318224851757565, -3.20854835105545, 4.945087712325966)"
      ]
     },
     "execution_count": 14,
     "metadata": {},
     "output_type": "execute_result"
    }
   ],
   "source": [
    "xmin = data2[:, 0].min()\n",
    "xmax = data2[:, 0].max()\n",
    "ymin = data2[:, 1].min()\n",
    "ymax = data2[:, 1].max()\n",
    "xmin, xmax, ymin, ymax"
   ]
  },
  {
   "cell_type": "code",
   "execution_count": 15,
   "id": "94046acb",
   "metadata": {},
   "outputs": [
    {
     "data": {
      "image/png": "[encoded data removed]",
      "text/plain": [
       "<Figure size 720x720 with 1 Axes>"
      ]
     },
     "metadata": {
      "needs_background": "light"
     },
     "output_type": "display_data"
    }
   ],
   "source": [
    "X, Y = np.mgrid[xmin:xmax:100j, ymin:ymax:100j]\n",
    "positions = np.vstack([X.ravel(), Y.ravel()])\n",
    "values = np.vstack([data2[:, 0], data2[:, 1]])\n",
    "\n",
    "import scipy.stats as stats\n",
    "kernel = stats.gaussian_kde(values, bw_method = 0.5)\n",
    "\n",
    "Z = np.reshape(kernel(positions).T, Y.shape)\n",
    "\n",
    "plt.rcParams[\"figure.figsize\"] = (10, 10)\n",
    "fig, ax = plt.subplots()\n",
    "ax.imshow(np.rot90(Z), cmap = 'viridis', extent = [xmin, xmax, ymin, ymax])\n",
    "ax.plot(data2[:, 0], data2[:, 1], 'w.', markersize = 2)\n",
    "ax.set_xlim([xmin, xmax])\n",
    "ax.set_ylim([ymin, ymax])\n",
    "plt.show()\n"
   ]
  },
  {
   "cell_type": "markdown",
   "id": "0e895c4a",
   "metadata": {},
   "source": [
    "### Преобразование Бокса-Кокса"
   ]
  },
  {
   "cell_type": "code",
   "execution_count": 16,
   "id": "a076fbba",
   "metadata": {},
   "outputs": [
    {
     "name": "stdout",
     "output_type": "stream",
     "text": [
      "Lambda value used for Transformation: 0.293142153484522\n"
     ]
    },
    {
     "data": {
      "image/png": "[encoded data removed]",
      "text/plain": [
       "<Figure size 720x360 with 2 Axes>"
      ]
     },
     "metadata": {
      "needs_background": "light"
     },
     "output_type": "display_data"
    }
   ],
   "source": [
    "original_data = np.random.exponential(size = 1000)\n",
    "# original_data = np.random.lognormal(mean=0.0, sigma=1.0, size = 1000)\n",
    "# original_data = np.random.weibull(100, 1000)\n",
    "\n",
    "\n",
    "fitted_data, fitted_lambda = stats.boxcox(original_data)\n",
    "  \n",
    "fig, ax=plt.subplots(1,2)\n",
    "sns.histplot(original_data, ax=ax[0])\n",
    "sns.histplot(fitted_data, ax=ax[1])\n",
    "fig.set_figheight(5)\n",
    "fig.set_figwidth(10)\n",
    "print(f\"Lambda value used for Transformation: {fitted_lambda}\")"
   ]
  },
  {
   "cell_type": "markdown",
   "id": "b5e4e6c7",
   "metadata": {},
   "source": [
    "# 3. Проблемы в данных"
   ]
  },
  {
   "cell_type": "markdown",
   "id": "890a1e63",
   "metadata": {},
   "source": [
    "### Масштабирование и категориальные переменные"
   ]
  },
  {
   "cell_type": "code",
   "execution_count": 17,
   "id": "80f33ef5",
   "metadata": {},
   "outputs": [
    {
     "data": {
      "text/html": [
       "<div>\n",
       "<style scoped>\n",
       "    .dataframe tbody tr th:only-of-type {\n",
       "        vertical-align: middle;\n",
       "    }\n",
       "\n",
       "    .dataframe tbody tr th {\n",
       "        vertical-align: top;\n",
       "    }\n",
       "\n",
       "    .dataframe thead th {\n",
       "        text-align: right;\n",
       "    }\n",
       "</style>\n",
       "<table border=\"1\" class=\"dataframe\">\n",
       "  <thead>\n",
       "    <tr style=\"text-align: right;\">\n",
       "      <th></th>\n",
       "      <th>mpg</th>\n",
       "      <th>cylinders</th>\n",
       "      <th>displacement</th>\n",
       "      <th>horsepower</th>\n",
       "      <th>weight</th>\n",
       "      <th>acceleration</th>\n",
       "      <th>model_year</th>\n",
       "      <th>origin</th>\n",
       "      <th>name</th>\n",
       "      <th>lpk</th>\n",
       "      <th>env</th>\n",
       "      <th>mass</th>\n",
       "    </tr>\n",
       "  </thead>\n",
       "  <tbody>\n",
       "    <tr>\n",
       "      <th>0</th>\n",
       "      <td>18.0</td>\n",
       "      <td>8</td>\n",
       "      <td>307.0</td>\n",
       "      <td>130.0</td>\n",
       "      <td>3504</td>\n",
       "      <td>12.0</td>\n",
       "      <td>70</td>\n",
       "      <td>usa</td>\n",
       "      <td>chevrolet chevelle malibu</td>\n",
       "      <td>33.833694</td>\n",
       "      <td>5.030829</td>\n",
       "      <td>1.589414</td>\n",
       "    </tr>\n",
       "    <tr>\n",
       "      <th>1</th>\n",
       "      <td>15.0</td>\n",
       "      <td>8</td>\n",
       "      <td>350.0</td>\n",
       "      <td>165.0</td>\n",
       "      <td>3693</td>\n",
       "      <td>11.5</td>\n",
       "      <td>70</td>\n",
       "      <td>usa</td>\n",
       "      <td>buick skylark 320</td>\n",
       "      <td>40.600433</td>\n",
       "      <td>5.735472</td>\n",
       "      <td>1.675145</td>\n",
       "    </tr>\n",
       "    <tr>\n",
       "      <th>2</th>\n",
       "      <td>18.0</td>\n",
       "      <td>8</td>\n",
       "      <td>318.0</td>\n",
       "      <td>150.0</td>\n",
       "      <td>3436</td>\n",
       "      <td>11.0</td>\n",
       "      <td>70</td>\n",
       "      <td>usa</td>\n",
       "      <td>plymouth satellite</td>\n",
       "      <td>33.833694</td>\n",
       "      <td>5.211086</td>\n",
       "      <td>1.558570</td>\n",
       "    </tr>\n",
       "    <tr>\n",
       "      <th>3</th>\n",
       "      <td>16.0</td>\n",
       "      <td>8</td>\n",
       "      <td>304.0</td>\n",
       "      <td>150.0</td>\n",
       "      <td>3433</td>\n",
       "      <td>12.0</td>\n",
       "      <td>70</td>\n",
       "      <td>usa</td>\n",
       "      <td>amc rebel sst</td>\n",
       "      <td>38.062906</td>\n",
       "      <td>4.981667</td>\n",
       "      <td>1.557209</td>\n",
       "    </tr>\n",
       "    <tr>\n",
       "      <th>4</th>\n",
       "      <td>17.0</td>\n",
       "      <td>8</td>\n",
       "      <td>302.0</td>\n",
       "      <td>140.0</td>\n",
       "      <td>3449</td>\n",
       "      <td>10.5</td>\n",
       "      <td>70</td>\n",
       "      <td>usa</td>\n",
       "      <td>ford torino</td>\n",
       "      <td>35.823912</td>\n",
       "      <td>4.948893</td>\n",
       "      <td>1.564466</td>\n",
       "    </tr>\n",
       "  </tbody>\n",
       "</table>\n",
       "</div>"
      ],
      "text/plain": [
       "    mpg  cylinders  displacement  horsepower  weight  acceleration  \\\n",
       "0  18.0          8         307.0       130.0    3504          12.0   \n",
       "1  15.0          8         350.0       165.0    3693          11.5   \n",
       "2  18.0          8         318.0       150.0    3436          11.0   \n",
       "3  16.0          8         304.0       150.0    3433          12.0   \n",
       "4  17.0          8         302.0       140.0    3449          10.5   \n",
       "\n",
       "   model_year origin                       name        lpk       env      mass  \n",
       "0          70    usa  chevrolet chevelle malibu  33.833694  5.030829  1.589414  \n",
       "1          70    usa          buick skylark 320  40.600433  5.735472  1.675145  \n",
       "2          70    usa         plymouth satellite  33.833694  5.211086  1.558570  \n",
       "3          70    usa              amc rebel sst  38.062906  4.981667  1.557209  \n",
       "4          70    usa                ford torino  35.823912  4.948893  1.564466  "
      ]
     },
     "execution_count": 17,
     "metadata": {},
     "output_type": "execute_result"
    }
   ],
   "source": [
    "CarsDS.head(5)"
   ]
  },
  {
   "cell_type": "code",
   "execution_count": 18,
   "id": "af665508",
   "metadata": {},
   "outputs": [
    {
     "data": {
      "text/html": [
       "<div>\n",
       "<style scoped>\n",
       "    .dataframe tbody tr th:only-of-type {\n",
       "        vertical-align: middle;\n",
       "    }\n",
       "\n",
       "    .dataframe tbody tr th {\n",
       "        vertical-align: top;\n",
       "    }\n",
       "\n",
       "    .dataframe thead th {\n",
       "        text-align: right;\n",
       "    }\n",
       "</style>\n",
       "<table border=\"1\" class=\"dataframe\">\n",
       "  <thead>\n",
       "    <tr style=\"text-align: right;\">\n",
       "      <th></th>\n",
       "      <th>name</th>\n",
       "      <th>acceleration</th>\n",
       "      <th>lpk</th>\n",
       "      <th>mass</th>\n",
       "    </tr>\n",
       "  </thead>\n",
       "  <tbody>\n",
       "    <tr>\n",
       "      <th>0</th>\n",
       "      <td>chevrolet chevelle malibu</td>\n",
       "      <td>12.0</td>\n",
       "      <td>33.833694</td>\n",
       "      <td>1.589414</td>\n",
       "    </tr>\n",
       "    <tr>\n",
       "      <th>1</th>\n",
       "      <td>buick skylark 320</td>\n",
       "      <td>11.5</td>\n",
       "      <td>40.600433</td>\n",
       "      <td>1.675145</td>\n",
       "    </tr>\n",
       "    <tr>\n",
       "      <th>2</th>\n",
       "      <td>plymouth satellite</td>\n",
       "      <td>11.0</td>\n",
       "      <td>33.833694</td>\n",
       "      <td>1.558570</td>\n",
       "    </tr>\n",
       "    <tr>\n",
       "      <th>3</th>\n",
       "      <td>amc rebel sst</td>\n",
       "      <td>12.0</td>\n",
       "      <td>38.062906</td>\n",
       "      <td>1.557209</td>\n",
       "    </tr>\n",
       "    <tr>\n",
       "      <th>4</th>\n",
       "      <td>ford torino</td>\n",
       "      <td>10.5</td>\n",
       "      <td>35.823912</td>\n",
       "      <td>1.564466</td>\n",
       "    </tr>\n",
       "  </tbody>\n",
       "</table>\n",
       "</div>"
      ],
      "text/plain": [
       "                        name  acceleration        lpk      mass\n",
       "0  chevrolet chevelle malibu          12.0  33.833694  1.589414\n",
       "1          buick skylark 320          11.5  40.600433  1.675145\n",
       "2         plymouth satellite          11.0  33.833694  1.558570\n",
       "3              amc rebel sst          12.0  38.062906  1.557209\n",
       "4                ford torino          10.5  35.823912  1.564466"
      ]
     },
     "execution_count": 18,
     "metadata": {},
     "output_type": "execute_result"
    }
   ],
   "source": [
    "ScaledCars = CarsDS.loc[:, ['name', 'acceleration', 'lpk', 'mass']]\n",
    "ScaledCars.head()"
   ]
  },
  {
   "cell_type": "code",
   "execution_count": 19,
   "id": "3e64e132",
   "metadata": {},
   "outputs": [
    {
     "data": {
      "text/plain": [
       "(8.0, 24.8)"
      ]
     },
     "execution_count": 19,
     "metadata": {},
     "output_type": "execute_result"
    }
   ],
   "source": [
    "A_min = ScaledCars['acceleration'].min()\n",
    "A_max = ScaledCars['acceleration'].max()\n",
    "\n",
    "A_min, A_max"
   ]
  },
  {
   "cell_type": "code",
   "execution_count": 20,
   "id": "c4374631",
   "metadata": {},
   "outputs": [],
   "source": [
    "ScaledCars['A_s'] = ( ScaledCars['acceleration'] - A_min ) / ( A_max - A_min )"
   ]
  },
  {
   "cell_type": "code",
   "execution_count": 21,
   "id": "fc8ce7d3",
   "metadata": {},
   "outputs": [
    {
     "data": {
      "text/html": [
       "<div>\n",
       "<style scoped>\n",
       "    .dataframe tbody tr th:only-of-type {\n",
       "        vertical-align: middle;\n",
       "    }\n",
       "\n",
       "    .dataframe tbody tr th {\n",
       "        vertical-align: top;\n",
       "    }\n",
       "\n",
       "    .dataframe thead th {\n",
       "        text-align: right;\n",
       "    }\n",
       "</style>\n",
       "<table border=\"1\" class=\"dataframe\">\n",
       "  <thead>\n",
       "    <tr style=\"text-align: right;\">\n",
       "      <th></th>\n",
       "      <th>name</th>\n",
       "      <th>acceleration</th>\n",
       "      <th>lpk</th>\n",
       "      <th>mass</th>\n",
       "      <th>A_s</th>\n",
       "    </tr>\n",
       "  </thead>\n",
       "  <tbody>\n",
       "    <tr>\n",
       "      <th>0</th>\n",
       "      <td>chevrolet chevelle malibu</td>\n",
       "      <td>12.0</td>\n",
       "      <td>33.833694</td>\n",
       "      <td>1.589414</td>\n",
       "      <td>0.238095</td>\n",
       "    </tr>\n",
       "    <tr>\n",
       "      <th>1</th>\n",
       "      <td>buick skylark 320</td>\n",
       "      <td>11.5</td>\n",
       "      <td>40.600433</td>\n",
       "      <td>1.675145</td>\n",
       "      <td>0.208333</td>\n",
       "    </tr>\n",
       "    <tr>\n",
       "      <th>2</th>\n",
       "      <td>plymouth satellite</td>\n",
       "      <td>11.0</td>\n",
       "      <td>33.833694</td>\n",
       "      <td>1.558570</td>\n",
       "      <td>0.178571</td>\n",
       "    </tr>\n",
       "    <tr>\n",
       "      <th>3</th>\n",
       "      <td>amc rebel sst</td>\n",
       "      <td>12.0</td>\n",
       "      <td>38.062906</td>\n",
       "      <td>1.557209</td>\n",
       "      <td>0.238095</td>\n",
       "    </tr>\n",
       "    <tr>\n",
       "      <th>4</th>\n",
       "      <td>ford torino</td>\n",
       "      <td>10.5</td>\n",
       "      <td>35.823912</td>\n",
       "      <td>1.564466</td>\n",
       "      <td>0.148810</td>\n",
       "    </tr>\n",
       "  </tbody>\n",
       "</table>\n",
       "</div>"
      ],
      "text/plain": [
       "                        name  acceleration        lpk      mass       A_s\n",
       "0  chevrolet chevelle malibu          12.0  33.833694  1.589414  0.238095\n",
       "1          buick skylark 320          11.5  40.600433  1.675145  0.208333\n",
       "2         plymouth satellite          11.0  33.833694  1.558570  0.178571\n",
       "3              amc rebel sst          12.0  38.062906  1.557209  0.238095\n",
       "4                ford torino          10.5  35.823912  1.564466  0.148810"
      ]
     },
     "execution_count": 21,
     "metadata": {},
     "output_type": "execute_result"
    }
   ],
   "source": [
    "ScaledCars.head()"
   ]
  },
  {
   "cell_type": "code",
   "execution_count": 22,
   "id": "0cbff47e",
   "metadata": {},
   "outputs": [],
   "source": [
    "L_min = ScaledCars['lpk'].min()\n",
    "L_max = ScaledCars['lpk'].max()\n",
    "ScaledCars['L_s'] = ( ScaledCars['lpk'] - L_min ) / ( L_max - L_min )\n",
    "\n",
    "M_min = ScaledCars['mass'].min()\n",
    "M_max = ScaledCars['mass'].max()\n",
    "ScaledCars['M_s'] = ( ScaledCars['mass'] - M_min ) / ( M_max - M_min )"
   ]
  },
  {
   "cell_type": "code",
   "execution_count": 23,
   "id": "c5b5cf78",
   "metadata": {},
   "outputs": [
    {
     "data": {
      "text/html": [
       "<div>\n",
       "<style scoped>\n",
       "    .dataframe tbody tr th:only-of-type {\n",
       "        vertical-align: middle;\n",
       "    }\n",
       "\n",
       "    .dataframe tbody tr th {\n",
       "        vertical-align: top;\n",
       "    }\n",
       "\n",
       "    .dataframe thead th {\n",
       "        text-align: right;\n",
       "    }\n",
       "</style>\n",
       "<table border=\"1\" class=\"dataframe\">\n",
       "  <thead>\n",
       "    <tr style=\"text-align: right;\">\n",
       "      <th></th>\n",
       "      <th>name</th>\n",
       "      <th>acceleration</th>\n",
       "      <th>lpk</th>\n",
       "      <th>mass</th>\n",
       "      <th>A_s</th>\n",
       "      <th>L_s</th>\n",
       "      <th>M_s</th>\n",
       "    </tr>\n",
       "  </thead>\n",
       "  <tbody>\n",
       "    <tr>\n",
       "      <th>0</th>\n",
       "      <td>chevrolet chevelle malibu</td>\n",
       "      <td>12.0</td>\n",
       "      <td>33.833694</td>\n",
       "      <td>1.589414</td>\n",
       "      <td>0.238095</td>\n",
       "      <td>0.380319</td>\n",
       "      <td>0.536150</td>\n",
       "    </tr>\n",
       "    <tr>\n",
       "      <th>1</th>\n",
       "      <td>buick skylark 320</td>\n",
       "      <td>11.5</td>\n",
       "      <td>40.600433</td>\n",
       "      <td>1.675145</td>\n",
       "      <td>0.208333</td>\n",
       "      <td>0.504255</td>\n",
       "      <td>0.589736</td>\n",
       "    </tr>\n",
       "    <tr>\n",
       "      <th>2</th>\n",
       "      <td>plymouth satellite</td>\n",
       "      <td>11.0</td>\n",
       "      <td>33.833694</td>\n",
       "      <td>1.558570</td>\n",
       "      <td>0.178571</td>\n",
       "      <td>0.380319</td>\n",
       "      <td>0.516870</td>\n",
       "    </tr>\n",
       "    <tr>\n",
       "      <th>3</th>\n",
       "      <td>amc rebel sst</td>\n",
       "      <td>12.0</td>\n",
       "      <td>38.062906</td>\n",
       "      <td>1.557209</td>\n",
       "      <td>0.238095</td>\n",
       "      <td>0.457779</td>\n",
       "      <td>0.516019</td>\n",
       "    </tr>\n",
       "    <tr>\n",
       "      <th>4</th>\n",
       "      <td>ford torino</td>\n",
       "      <td>10.5</td>\n",
       "      <td>35.823912</td>\n",
       "      <td>1.564466</td>\n",
       "      <td>0.148810</td>\n",
       "      <td>0.416771</td>\n",
       "      <td>0.520556</td>\n",
       "    </tr>\n",
       "  </tbody>\n",
       "</table>\n",
       "</div>"
      ],
      "text/plain": [
       "                        name  acceleration        lpk      mass       A_s  \\\n",
       "0  chevrolet chevelle malibu          12.0  33.833694  1.589414  0.238095   \n",
       "1          buick skylark 320          11.5  40.600433  1.675145  0.208333   \n",
       "2         plymouth satellite          11.0  33.833694  1.558570  0.178571   \n",
       "3              amc rebel sst          12.0  38.062906  1.557209  0.238095   \n",
       "4                ford torino          10.5  35.823912  1.564466  0.148810   \n",
       "\n",
       "        L_s       M_s  \n",
       "0  0.380319  0.536150  \n",
       "1  0.504255  0.589736  \n",
       "2  0.380319  0.516870  \n",
       "3  0.457779  0.516019  \n",
       "4  0.416771  0.520556  "
      ]
     },
     "execution_count": 23,
     "metadata": {},
     "output_type": "execute_result"
    }
   ],
   "source": [
    "ScaledCars.head()"
   ]
  },
  {
   "cell_type": "code",
   "execution_count": 24,
   "id": "c19ae630",
   "metadata": {},
   "outputs": [
    {
     "data": {
      "text/html": [
       "<div>\n",
       "<style scoped>\n",
       "    .dataframe tbody tr th:only-of-type {\n",
       "        vertical-align: middle;\n",
       "    }\n",
       "\n",
       "    .dataframe tbody tr th {\n",
       "        vertical-align: top;\n",
       "    }\n",
       "\n",
       "    .dataframe thead th {\n",
       "        text-align: right;\n",
       "    }\n",
       "</style>\n",
       "<table border=\"1\" class=\"dataframe\">\n",
       "  <thead>\n",
       "    <tr style=\"text-align: right;\">\n",
       "      <th></th>\n",
       "      <th>name</th>\n",
       "      <th>acceleration</th>\n",
       "      <th>lpk</th>\n",
       "      <th>mass</th>\n",
       "      <th>A_s</th>\n",
       "      <th>L_s</th>\n",
       "      <th>M_s</th>\n",
       "      <th>Distance</th>\n",
       "    </tr>\n",
       "  </thead>\n",
       "  <tbody>\n",
       "    <tr>\n",
       "      <th>0</th>\n",
       "      <td>chevrolet chevelle malibu</td>\n",
       "      <td>12.0</td>\n",
       "      <td>33.833694</td>\n",
       "      <td>1.589414</td>\n",
       "      <td>0.238095</td>\n",
       "      <td>0.380319</td>\n",
       "      <td>0.536150</td>\n",
       "      <td>0.699134</td>\n",
       "    </tr>\n",
       "    <tr>\n",
       "      <th>1</th>\n",
       "      <td>buick skylark 320</td>\n",
       "      <td>11.5</td>\n",
       "      <td>40.600433</td>\n",
       "      <td>1.675145</td>\n",
       "      <td>0.208333</td>\n",
       "      <td>0.504255</td>\n",
       "      <td>0.589736</td>\n",
       "      <td>0.803408</td>\n",
       "    </tr>\n",
       "    <tr>\n",
       "      <th>2</th>\n",
       "      <td>plymouth satellite</td>\n",
       "      <td>11.0</td>\n",
       "      <td>33.833694</td>\n",
       "      <td>1.558570</td>\n",
       "      <td>0.178571</td>\n",
       "      <td>0.380319</td>\n",
       "      <td>0.516870</td>\n",
       "      <td>0.666097</td>\n",
       "    </tr>\n",
       "    <tr>\n",
       "      <th>3</th>\n",
       "      <td>amc rebel sst</td>\n",
       "      <td>12.0</td>\n",
       "      <td>38.062906</td>\n",
       "      <td>1.557209</td>\n",
       "      <td>0.238095</td>\n",
       "      <td>0.457779</td>\n",
       "      <td>0.516019</td>\n",
       "      <td>0.729745</td>\n",
       "    </tr>\n",
       "    <tr>\n",
       "      <th>4</th>\n",
       "      <td>ford torino</td>\n",
       "      <td>10.5</td>\n",
       "      <td>35.823912</td>\n",
       "      <td>1.564466</td>\n",
       "      <td>0.148810</td>\n",
       "      <td>0.416771</td>\n",
       "      <td>0.520556</td>\n",
       "      <td>0.683243</td>\n",
       "    </tr>\n",
       "  </tbody>\n",
       "</table>\n",
       "</div>"
      ],
      "text/plain": [
       "                        name  acceleration        lpk      mass       A_s  \\\n",
       "0  chevrolet chevelle malibu          12.0  33.833694  1.589414  0.238095   \n",
       "1          buick skylark 320          11.5  40.600433  1.675145  0.208333   \n",
       "2         plymouth satellite          11.0  33.833694  1.558570  0.178571   \n",
       "3              amc rebel sst          12.0  38.062906  1.557209  0.238095   \n",
       "4                ford torino          10.5  35.823912  1.564466  0.148810   \n",
       "\n",
       "        L_s       M_s  Distance  \n",
       "0  0.380319  0.536150  0.699134  \n",
       "1  0.504255  0.589736  0.803408  \n",
       "2  0.380319  0.516870  0.666097  \n",
       "3  0.457779  0.516019  0.729745  \n",
       "4  0.416771  0.520556  0.683243  "
      ]
     },
     "execution_count": 24,
     "metadata": {},
     "output_type": "execute_result"
    }
   ],
   "source": [
    "ScaledCars['Distance'] = np.power( ScaledCars['A_s']**2 \n",
    "                                  + ScaledCars['L_s']**2 \n",
    "                                  + ScaledCars['M_s']**2\n",
    "                                  , 0.5)\n",
    "\n",
    "ScaledCars.head()"
   ]
  },
  {
   "cell_type": "code",
   "execution_count": 25,
   "id": "86328ac9",
   "metadata": {},
   "outputs": [
    {
     "data": {
      "text/html": [
       "<div>\n",
       "<style scoped>\n",
       "    .dataframe tbody tr th:only-of-type {\n",
       "        vertical-align: middle;\n",
       "    }\n",
       "\n",
       "    .dataframe tbody tr th {\n",
       "        vertical-align: top;\n",
       "    }\n",
       "\n",
       "    .dataframe thead th {\n",
       "        text-align: right;\n",
       "    }\n",
       "</style>\n",
       "<table border=\"1\" class=\"dataframe\">\n",
       "  <thead>\n",
       "    <tr style=\"text-align: right;\">\n",
       "      <th></th>\n",
       "      <th>name</th>\n",
       "      <th>acceleration</th>\n",
       "      <th>lpk</th>\n",
       "      <th>mass</th>\n",
       "      <th>A_s</th>\n",
       "      <th>L_s</th>\n",
       "      <th>M_s</th>\n",
       "      <th>Distance</th>\n",
       "    </tr>\n",
       "  </thead>\n",
       "  <tbody>\n",
       "    <tr>\n",
       "      <th>203</th>\n",
       "      <td>volkswagen rabbit</td>\n",
       "      <td>12.2</td>\n",
       "      <td>20.644288</td>\n",
       "      <td>0.827820</td>\n",
       "      <td>0.250000</td>\n",
       "      <td>0.138749</td>\n",
       "      <td>0.060108</td>\n",
       "      <td>0.292171</td>\n",
       "    </tr>\n",
       "    <tr>\n",
       "      <th>395</th>\n",
       "      <td>dodge rampage</td>\n",
       "      <td>11.6</td>\n",
       "      <td>19.031453</td>\n",
       "      <td>1.041012</td>\n",
       "      <td>0.214286</td>\n",
       "      <td>0.109209</td>\n",
       "      <td>0.193365</td>\n",
       "      <td>0.308602</td>\n",
       "    </tr>\n",
       "    <tr>\n",
       "      <th>329</th>\n",
       "      <td>honda civic 1500 gl</td>\n",
       "      <td>13.8</td>\n",
       "      <td>13.654854</td>\n",
       "      <td>0.839160</td>\n",
       "      <td>0.345238</td>\n",
       "      <td>0.010734</td>\n",
       "      <td>0.067196</td>\n",
       "      <td>0.351880</td>\n",
       "    </tr>\n",
       "    <tr>\n",
       "      <th>301</th>\n",
       "      <td>plymouth horizon</td>\n",
       "      <td>13.2</td>\n",
       "      <td>17.807208</td>\n",
       "      <td>0.997920</td>\n",
       "      <td>0.309524</td>\n",
       "      <td>0.086786</td>\n",
       "      <td>0.166430</td>\n",
       "      <td>0.361989</td>\n",
       "    </tr>\n",
       "    <tr>\n",
       "      <th>306</th>\n",
       "      <td>chevrolet citation</td>\n",
       "      <td>11.3</td>\n",
       "      <td>21.146059</td>\n",
       "      <td>1.177092</td>\n",
       "      <td>0.196429</td>\n",
       "      <td>0.147939</td>\n",
       "      <td>0.278424</td>\n",
       "      <td>0.371470</td>\n",
       "    </tr>\n",
       "    <tr>\n",
       "      <th>...</th>\n",
       "      <td>...</td>\n",
       "      <td>...</td>\n",
       "      <td>...</td>\n",
       "      <td>...</td>\n",
       "      <td>...</td>\n",
       "      <td>...</td>\n",
       "      <td>...</td>\n",
       "      <td>...</td>\n",
       "    </tr>\n",
       "    <tr>\n",
       "      <th>44</th>\n",
       "      <td>pontiac safari (sw)</td>\n",
       "      <td>12.0</td>\n",
       "      <td>46.846654</td>\n",
       "      <td>2.331504</td>\n",
       "      <td>0.238095</td>\n",
       "      <td>0.618658</td>\n",
       "      <td>1.000000</td>\n",
       "      <td>1.199761</td>\n",
       "    </tr>\n",
       "    <tr>\n",
       "      <th>26</th>\n",
       "      <td>chevy c20</td>\n",
       "      <td>15.0</td>\n",
       "      <td>60.900650</td>\n",
       "      <td>1.984954</td>\n",
       "      <td>0.416667</td>\n",
       "      <td>0.876064</td>\n",
       "      <td>0.783385</td>\n",
       "      <td>1.246913</td>\n",
       "    </tr>\n",
       "    <tr>\n",
       "      <th>25</th>\n",
       "      <td>ford f250</td>\n",
       "      <td>14.0</td>\n",
       "      <td>60.900650</td>\n",
       "      <td>2.093364</td>\n",
       "      <td>0.357143</td>\n",
       "      <td>0.876064</td>\n",
       "      <td>0.851148</td>\n",
       "      <td>1.272593</td>\n",
       "    </tr>\n",
       "    <tr>\n",
       "      <th>103</th>\n",
       "      <td>chevrolet impala</td>\n",
       "      <td>14.0</td>\n",
       "      <td>55.364227</td>\n",
       "      <td>2.266639</td>\n",
       "      <td>0.357143</td>\n",
       "      <td>0.774662</td>\n",
       "      <td>0.959456</td>\n",
       "      <td>1.283825</td>\n",
       "    </tr>\n",
       "    <tr>\n",
       "      <th>28</th>\n",
       "      <td>hi 1200d</td>\n",
       "      <td>18.5</td>\n",
       "      <td>67.667389</td>\n",
       "      <td>2.146435</td>\n",
       "      <td>0.625000</td>\n",
       "      <td>1.000000</td>\n",
       "      <td>0.884321</td>\n",
       "      <td>1.473991</td>\n",
       "    </tr>\n",
       "  </tbody>\n",
       "</table>\n",
       "<p>398 rows × 8 columns</p>\n",
       "</div>"
      ],
      "text/plain": [
       "                    name  acceleration        lpk      mass       A_s  \\\n",
       "203    volkswagen rabbit          12.2  20.644288  0.827820  0.250000   \n",
       "395        dodge rampage          11.6  19.031453  1.041012  0.214286   \n",
       "329  honda civic 1500 gl          13.8  13.654854  0.839160  0.345238   \n",
       "301     plymouth horizon          13.2  17.807208  0.997920  0.309524   \n",
       "306   chevrolet citation          11.3  21.146059  1.177092  0.196429   \n",
       "..                   ...           ...        ...       ...       ...   \n",
       "44   pontiac safari (sw)          12.0  46.846654  2.331504  0.238095   \n",
       "26             chevy c20          15.0  60.900650  1.984954  0.416667   \n",
       "25             ford f250          14.0  60.900650  2.093364  0.357143   \n",
       "103     chevrolet impala          14.0  55.364227  2.266639  0.357143   \n",
       "28              hi 1200d          18.5  67.667389  2.146435  0.625000   \n",
       "\n",
       "          L_s       M_s  Distance  \n",
       "203  0.138749  0.060108  0.292171  \n",
       "395  0.109209  0.193365  0.308602  \n",
       "329  0.010734  0.067196  0.351880  \n",
       "301  0.086786  0.166430  0.361989  \n",
       "306  0.147939  0.278424  0.371470  \n",
       "..        ...       ...       ...  \n",
       "44   0.618658  1.000000  1.199761  \n",
       "26   0.876064  0.783385  1.246913  \n",
       "25   0.876064  0.851148  1.272593  \n",
       "103  0.774662  0.959456  1.283825  \n",
       "28   1.000000  0.884321  1.473991  \n",
       "\n",
       "[398 rows x 8 columns]"
      ]
     },
     "execution_count": 25,
     "metadata": {},
     "output_type": "execute_result"
    }
   ],
   "source": [
    "ScaledCars.sort_values( 'Distance', ascending = True )"
   ]
  },
  {
   "cell_type": "code",
   "execution_count": 26,
   "id": "28c0f84e",
   "metadata": {},
   "outputs": [
    {
     "data": {
      "text/html": [
       "<div>\n",
       "<style scoped>\n",
       "    .dataframe tbody tr th:only-of-type {\n",
       "        vertical-align: middle;\n",
       "    }\n",
       "\n",
       "    .dataframe tbody tr th {\n",
       "        vertical-align: top;\n",
       "    }\n",
       "\n",
       "    .dataframe thead th {\n",
       "        text-align: right;\n",
       "    }\n",
       "</style>\n",
       "<table border=\"1\" class=\"dataframe\">\n",
       "  <thead>\n",
       "    <tr style=\"text-align: right;\">\n",
       "      <th></th>\n",
       "      <th>name</th>\n",
       "      <th>acceleration</th>\n",
       "      <th>lpk</th>\n",
       "      <th>mass</th>\n",
       "      <th>A_s</th>\n",
       "      <th>L_s</th>\n",
       "      <th>M_s</th>\n",
       "      <th>Distance</th>\n",
       "    </tr>\n",
       "  </thead>\n",
       "  <tbody>\n",
       "    <tr>\n",
       "      <th>6</th>\n",
       "      <td>chevrolet impala</td>\n",
       "      <td>9.0</td>\n",
       "      <td>43.500464</td>\n",
       "      <td>1.974974</td>\n",
       "      <td>0.059524</td>\n",
       "      <td>0.557371</td>\n",
       "      <td>0.777148</td>\n",
       "      <td>0.958209</td>\n",
       "    </tr>\n",
       "    <tr>\n",
       "      <th>38</th>\n",
       "      <td>chevrolet impala</td>\n",
       "      <td>12.0</td>\n",
       "      <td>43.500464</td>\n",
       "      <td>1.909202</td>\n",
       "      <td>0.238095</td>\n",
       "      <td>0.557371</td>\n",
       "      <td>0.736036</td>\n",
       "      <td>0.953468</td>\n",
       "    </tr>\n",
       "    <tr>\n",
       "      <th>62</th>\n",
       "      <td>chevrolet impala</td>\n",
       "      <td>12.0</td>\n",
       "      <td>46.846654</td>\n",
       "      <td>1.938686</td>\n",
       "      <td>0.238095</td>\n",
       "      <td>0.618658</td>\n",
       "      <td>0.754466</td>\n",
       "      <td>1.004313</td>\n",
       "    </tr>\n",
       "    <tr>\n",
       "      <th>103</th>\n",
       "      <td>chevrolet impala</td>\n",
       "      <td>14.0</td>\n",
       "      <td>55.364227</td>\n",
       "      <td>2.266639</td>\n",
       "      <td>0.357143</td>\n",
       "      <td>0.774662</td>\n",
       "      <td>0.959456</td>\n",
       "      <td>1.283825</td>\n",
       "    </tr>\n",
       "  </tbody>\n",
       "</table>\n",
       "</div>"
      ],
      "text/plain": [
       "                 name  acceleration        lpk      mass       A_s       L_s  \\\n",
       "6    chevrolet impala           9.0  43.500464  1.974974  0.059524  0.557371   \n",
       "38   chevrolet impala          12.0  43.500464  1.909202  0.238095  0.557371   \n",
       "62   chevrolet impala          12.0  46.846654  1.938686  0.238095  0.618658   \n",
       "103  chevrolet impala          14.0  55.364227  2.266639  0.357143  0.774662   \n",
       "\n",
       "          M_s  Distance  \n",
       "6    0.777148  0.958209  \n",
       "38   0.736036  0.953468  \n",
       "62   0.754466  1.004313  \n",
       "103  0.959456  1.283825  "
      ]
     },
     "execution_count": 26,
     "metadata": {},
     "output_type": "execute_result"
    }
   ],
   "source": [
    "ScaledCars[ScaledCars['name'] == 'chevrolet impala']"
   ]
  },
  {
   "cell_type": "markdown",
   "id": "7c383422",
   "metadata": {},
   "source": [
    "### Пропуски и выбросы"
   ]
  },
  {
   "cell_type": "markdown",
   "id": "191c421b",
   "metadata": {},
   "source": [
    "замена нулями"
   ]
  },
  {
   "cell_type": "code",
   "execution_count": 27,
   "id": "d11bc50b",
   "metadata": {},
   "outputs": [
    {
     "name": "stdout",
     "output_type": "stream",
     "text": [
      "(2930, 82)\n",
      "Order               int64\n",
      "PID                 int64\n",
      "MS SubClass         int64\n",
      "MS Zoning          object\n",
      "Lot Frontage      float64\n",
      "                   ...   \n",
      "Mo Sold             int64\n",
      "Yr Sold             int64\n",
      "Sale Type          object\n",
      "Sale Condition     object\n",
      "SalePrice           int64\n",
      "Length: 82, dtype: object\n"
     ]
    }
   ],
   "source": [
    "# импорт пакетов\n",
    "import matplotlib.mlab as mlab\n",
    "import matplotlib\n",
    "from matplotlib.pyplot import figure\n",
    "\n",
    "matplotlib.rcParams['figure.figsize'] = (12,8)\n",
    "pd.options.mode.chained_assignment = None\n",
    "\n",
    "# чтение данных\n",
    "df = pd.read_csv('AmesHousing.txt', sep=\"\\t\", header = 0, index_col=False)\n",
    "\n",
    "# shape and data types of the data\n",
    "print(df.shape)\n",
    "print(df.dtypes)"
   ]
  },
  {
   "cell_type": "code",
   "execution_count": 28,
   "id": "bc9ff539",
   "metadata": {},
   "outputs": [
    {
     "name": "stdout",
     "output_type": "stream",
     "text": [
      "['Order' 'PID' 'MS SubClass' 'Lot Frontage' 'Lot Area' 'Overall Qual'\n",
      " 'Overall Cond' 'Year Built' 'Year Remod/Add' 'Mas Vnr Area'\n",
      " 'BsmtFin SF 1' 'BsmtFin SF 2' 'Bsmt Unf SF' 'Total Bsmt SF' '1st Flr SF'\n",
      " '2nd Flr SF' 'Low Qual Fin SF' 'Gr Liv Area' 'Bsmt Full Bath'\n",
      " 'Bsmt Half Bath' 'Full Bath' 'Half Bath' 'Bedroom AbvGr' 'Kitchen AbvGr'\n",
      " 'TotRms AbvGrd' 'Fireplaces' 'Garage Yr Blt' 'Garage Cars' 'Garage Area'\n",
      " 'Wood Deck SF' 'Open Porch SF' 'Enclosed Porch' '3Ssn Porch'\n",
      " 'Screen Porch' 'Pool Area' 'Misc Val' 'Mo Sold' 'Yr Sold' 'SalePrice']\n"
     ]
    }
   ],
   "source": [
    "# отбор числовых колонок\n",
    "df_numeric = df.select_dtypes(include=[np.number])\n",
    "numeric_cols = df_numeric.columns.values\n",
    "print(numeric_cols)"
   ]
  },
  {
   "cell_type": "code",
   "execution_count": 29,
   "id": "1d482f43",
   "metadata": {},
   "outputs": [
    {
     "name": "stdout",
     "output_type": "stream",
     "text": [
      "['MS Zoning' 'Street' 'Alley' 'Lot Shape' 'Land Contour' 'Utilities'\n",
      " 'Lot Config' 'Land Slope' 'Neighborhood' 'Condition 1' 'Condition 2'\n",
      " 'Bldg Type' 'House Style' 'Roof Style' 'Roof Matl' 'Exterior 1st'\n",
      " 'Exterior 2nd' 'Mas Vnr Type' 'Exter Qual' 'Exter Cond' 'Foundation'\n",
      " 'Bsmt Qual' 'Bsmt Cond' 'Bsmt Exposure' 'BsmtFin Type 1' 'BsmtFin Type 2'\n",
      " 'Heating' 'Heating QC' 'Central Air' 'Electrical' 'Kitchen Qual'\n",
      " 'Functional' 'Fireplace Qu' 'Garage Type' 'Garage Finish' 'Garage Qual'\n",
      " 'Garage Cond' 'Paved Drive' 'Pool QC' 'Fence' 'Misc Feature' 'Sale Type'\n",
      " 'Sale Condition']\n"
     ]
    }
   ],
   "source": [
    "# отбор нечисловых колонок\n",
    "df_non_numeric = df.select_dtypes(exclude=[np.number])\n",
    "non_numeric_cols = df_non_numeric.columns.values\n",
    "print(non_numeric_cols)"
   ]
  },
  {
   "cell_type": "code",
   "execution_count": 30,
   "id": "4c6efcb6",
   "metadata": {},
   "outputs": [
    {
     "data": {
      "text/plain": [
       "<AxesSubplot:>"
      ]
     },
     "execution_count": 30,
     "metadata": {},
     "output_type": "execute_result"
    },
    {
     "data": {
      "image/png": "[encoded data removed]",
      "text/plain": [
       "<Figure size 864x576 with 2 Axes>"
      ]
     },
     "metadata": {
      "needs_background": "light"
     },
     "output_type": "display_data"
    }
   ],
   "source": [
    "cols = df.columns[:30] # первые 30 колонок\n",
    "# определяем цвета \n",
    "# желтый - пропущенные данные, синий - не пропущенные\n",
    "colours = ['#000099', '#ffff00'] \n",
    "sns.heatmap(df[cols].isnull(), cmap=sns.color_palette(colours))"
   ]
  },
  {
   "cell_type": "code",
   "execution_count": 31,
   "id": "eba89875",
   "metadata": {},
   "outputs": [
    {
     "data": {
      "text/plain": [
       "0.9324232081911262"
      ]
     },
     "execution_count": 31,
     "metadata": {},
     "output_type": "execute_result"
    }
   ],
   "source": [
    "np.mean(df['Alley'].isnull())"
   ]
  },
  {
   "cell_type": "code",
   "execution_count": 32,
   "id": "6fa0057a",
   "metadata": {},
   "outputs": [
    {
     "name": "stdout",
     "output_type": "stream",
     "text": [
      "Order - 0%\n",
      "PID - 0%\n",
      "MS SubClass - 0%\n",
      "MS Zoning - 0%\n",
      "Lot Frontage - 17%\n",
      "Lot Area - 0%\n",
      "Street - 0%\n",
      "Alley - 93%\n",
      "Lot Shape - 0%\n",
      "Land Contour - 0%\n",
      "Utilities - 0%\n",
      "Lot Config - 0%\n",
      "Land Slope - 0%\n",
      "Neighborhood - 0%\n",
      "Condition 1 - 0%\n",
      "Condition 2 - 0%\n",
      "Bldg Type - 0%\n",
      "House Style - 0%\n",
      "Overall Qual - 0%\n",
      "Overall Cond - 0%\n",
      "Year Built - 0%\n",
      "Year Remod/Add - 0%\n",
      "Roof Style - 0%\n",
      "Roof Matl - 0%\n",
      "Exterior 1st - 0%\n",
      "Exterior 2nd - 0%\n",
      "Mas Vnr Type - 1%\n",
      "Mas Vnr Area - 1%\n",
      "Exter Qual - 0%\n",
      "Exter Cond - 0%\n",
      "Foundation - 0%\n",
      "Bsmt Qual - 3%\n",
      "Bsmt Cond - 3%\n",
      "Bsmt Exposure - 3%\n",
      "BsmtFin Type 1 - 3%\n",
      "BsmtFin SF 1 - 0%\n",
      "BsmtFin Type 2 - 3%\n",
      "BsmtFin SF 2 - 0%\n",
      "Bsmt Unf SF - 0%\n",
      "Total Bsmt SF - 0%\n",
      "Heating - 0%\n",
      "Heating QC - 0%\n",
      "Central Air - 0%\n",
      "Electrical - 0%\n",
      "1st Flr SF - 0%\n",
      "2nd Flr SF - 0%\n",
      "Low Qual Fin SF - 0%\n",
      "Gr Liv Area - 0%\n",
      "Bsmt Full Bath - 0%\n",
      "Bsmt Half Bath - 0%\n",
      "Full Bath - 0%\n",
      "Half Bath - 0%\n",
      "Bedroom AbvGr - 0%\n",
      "Kitchen AbvGr - 0%\n",
      "Kitchen Qual - 0%\n",
      "TotRms AbvGrd - 0%\n",
      "Functional - 0%\n",
      "Fireplaces - 0%\n",
      "Fireplace Qu - 49%\n",
      "Garage Type - 5%\n",
      "Garage Yr Blt - 5%\n",
      "Garage Finish - 5%\n",
      "Garage Cars - 0%\n",
      "Garage Area - 0%\n",
      "Garage Qual - 5%\n",
      "Garage Cond - 5%\n",
      "Paved Drive - 0%\n",
      "Wood Deck SF - 0%\n",
      "Open Porch SF - 0%\n",
      "Enclosed Porch - 0%\n",
      "3Ssn Porch - 0%\n",
      "Screen Porch - 0%\n",
      "Pool Area - 0%\n",
      "Pool QC - 100%\n",
      "Fence - 80%\n",
      "Misc Feature - 96%\n",
      "Misc Val - 0%\n",
      "Mo Sold - 0%\n",
      "Yr Sold - 0%\n",
      "Sale Type - 0%\n",
      "Sale Condition - 0%\n",
      "SalePrice - 0%\n"
     ]
    }
   ],
   "source": [
    "# Процентный список пропущенных данных\n",
    "for col in df.columns:\n",
    "    pct_missing = np.mean(df[col].isnull())\n",
    "    print('{} - {}%'.format(col, round(pct_missing*100)))"
   ]
  },
  {
   "cell_type": "code",
   "execution_count": 33,
   "id": "669eaf1b",
   "metadata": {},
   "outputs": [
    {
     "name": "stdout",
     "output_type": "stream",
     "text": [
      "created missing indicator for: Lot Frontage\n",
      "created missing indicator for: Alley\n",
      "created missing indicator for: Mas Vnr Type\n",
      "created missing indicator for: Mas Vnr Area\n",
      "created missing indicator for: Bsmt Qual\n",
      "created missing indicator for: Bsmt Cond\n",
      "created missing indicator for: Bsmt Exposure\n",
      "created missing indicator for: BsmtFin Type 1\n",
      "created missing indicator for: BsmtFin SF 1\n",
      "created missing indicator for: BsmtFin Type 2\n",
      "created missing indicator for: BsmtFin SF 2\n",
      "created missing indicator for: Bsmt Unf SF\n",
      "created missing indicator for: Total Bsmt SF\n",
      "created missing indicator for: Electrical\n",
      "created missing indicator for: Bsmt Full Bath\n",
      "created missing indicator for: Bsmt Half Bath\n",
      "created missing indicator for: Fireplace Qu\n",
      "created missing indicator for: Garage Type\n",
      "created missing indicator for: Garage Yr Blt\n",
      "created missing indicator for: Garage Finish\n",
      "created missing indicator for: Garage Cars\n",
      "created missing indicator for: Garage Area\n",
      "created missing indicator for: Garage Qual\n",
      "created missing indicator for: Garage Cond\n",
      "created missing indicator for: Pool QC\n",
      "created missing indicator for: Fence\n",
      "created missing indicator for: Misc Feature\n"
     ]
    },
    {
     "data": {
      "text/plain": [
       "<AxesSubplot:xlabel='index'>"
      ]
     },
     "execution_count": 33,
     "metadata": {},
     "output_type": "execute_result"
    },
    {
     "data": {
      "image/png": "[encoded data removed]",
      "text/plain": [
       "<Figure size 864x576 with 1 Axes>"
      ]
     },
     "metadata": {
      "needs_background": "light"
     },
     "output_type": "display_data"
    }
   ],
   "source": [
    "# Кол-во пропусков в одной строке \n",
    "\n",
    "for col in df.columns:\n",
    "    missing = df[col].isnull()\n",
    "    num_missing = np.sum(missing) # кол-во пропущенных значений\n",
    "    \n",
    "    if num_missing > 0:  \n",
    "        print('created missing indicator for: {}'.format(col))\n",
    "        df['{}_ismissing'.format(col)] = missing\n",
    "\n",
    "\n",
    "# затем на основе индикатора строим гистограмму\n",
    "ismissing_cols = [col for col in df.columns if 'ismissing' in col]\n",
    "df['num_missing'] = df[ismissing_cols].sum(axis=1) # кол-во пропущенных значений в строке\n",
    "\n",
    "df['num_missing'].value_counts().reset_index().sort_values(by='index').plot.bar(x='index', y='num_missing')"
   ]
  },
  {
   "cell_type": "code",
   "execution_count": 34,
   "id": "7a6f1d83",
   "metadata": {},
   "outputs": [
    {
     "data": {
      "text/plain": [
       "0       4\n",
       "1       4\n",
       "2       4\n",
       "3       4\n",
       "4       3\n",
       "       ..\n",
       "2925    4\n",
       "2926    5\n",
       "2927    8\n",
       "2928    4\n",
       "2929    4\n",
       "Name: num_missing, Length: 2930, dtype: int64"
      ]
     },
     "execution_count": 34,
     "metadata": {},
     "output_type": "execute_result"
    }
   ],
   "source": [
    "df['num_missing']"
   ]
  },
  {
   "cell_type": "code",
   "execution_count": 35,
   "id": "fbaf293e",
   "metadata": {},
   "outputs": [
    {
     "data": {
      "text/html": [
       "<div>\n",
       "<style scoped>\n",
       "    .dataframe tbody tr th:only-of-type {\n",
       "        vertical-align: middle;\n",
       "    }\n",
       "\n",
       "    .dataframe tbody tr th {\n",
       "        vertical-align: top;\n",
       "    }\n",
       "\n",
       "    .dataframe thead th {\n",
       "        text-align: right;\n",
       "    }\n",
       "</style>\n",
       "<table border=\"1\" class=\"dataframe\">\n",
       "  <thead>\n",
       "    <tr style=\"text-align: right;\">\n",
       "      <th></th>\n",
       "      <th>Order</th>\n",
       "      <th>PID</th>\n",
       "      <th>MS SubClass</th>\n",
       "      <th>MS Zoning</th>\n",
       "      <th>Lot Frontage</th>\n",
       "      <th>Lot Area</th>\n",
       "      <th>Street</th>\n",
       "      <th>Alley</th>\n",
       "      <th>Lot Shape</th>\n",
       "      <th>Land Contour</th>\n",
       "      <th>...</th>\n",
       "      <th>Garage Yr Blt_ismissing</th>\n",
       "      <th>Garage Finish_ismissing</th>\n",
       "      <th>Garage Cars_ismissing</th>\n",
       "      <th>Garage Area_ismissing</th>\n",
       "      <th>Garage Qual_ismissing</th>\n",
       "      <th>Garage Cond_ismissing</th>\n",
       "      <th>Pool QC_ismissing</th>\n",
       "      <th>Fence_ismissing</th>\n",
       "      <th>Misc Feature_ismissing</th>\n",
       "      <th>num_missing</th>\n",
       "    </tr>\n",
       "  </thead>\n",
       "  <tbody>\n",
       "    <tr>\n",
       "      <th>14</th>\n",
       "      <td>15</td>\n",
       "      <td>527182190</td>\n",
       "      <td>120</td>\n",
       "      <td>RL</td>\n",
       "      <td>NaN</td>\n",
       "      <td>6820</td>\n",
       "      <td>Pave</td>\n",
       "      <td>NaN</td>\n",
       "      <td>IR1</td>\n",
       "      <td>Lvl</td>\n",
       "      <td>...</td>\n",
       "      <td>False</td>\n",
       "      <td>False</td>\n",
       "      <td>False</td>\n",
       "      <td>False</td>\n",
       "      <td>False</td>\n",
       "      <td>False</td>\n",
       "      <td>True</td>\n",
       "      <td>True</td>\n",
       "      <td>True</td>\n",
       "      <td>6</td>\n",
       "    </tr>\n",
       "    <tr>\n",
       "      <th>22</th>\n",
       "      <td>23</td>\n",
       "      <td>527368020</td>\n",
       "      <td>60</td>\n",
       "      <td>FV</td>\n",
       "      <td>NaN</td>\n",
       "      <td>7500</td>\n",
       "      <td>Pave</td>\n",
       "      <td>NaN</td>\n",
       "      <td>Reg</td>\n",
       "      <td>Lvl</td>\n",
       "      <td>...</td>\n",
       "      <td>False</td>\n",
       "      <td>False</td>\n",
       "      <td>False</td>\n",
       "      <td>False</td>\n",
       "      <td>False</td>\n",
       "      <td>False</td>\n",
       "      <td>True</td>\n",
       "      <td>True</td>\n",
       "      <td>True</td>\n",
       "      <td>6</td>\n",
       "    </tr>\n",
       "    <tr>\n",
       "      <th>27</th>\n",
       "      <td>28</td>\n",
       "      <td>527425090</td>\n",
       "      <td>20</td>\n",
       "      <td>RL</td>\n",
       "      <td>70.0</td>\n",
       "      <td>10500</td>\n",
       "      <td>Pave</td>\n",
       "      <td>NaN</td>\n",
       "      <td>Reg</td>\n",
       "      <td>Lvl</td>\n",
       "      <td>...</td>\n",
       "      <td>True</td>\n",
       "      <td>True</td>\n",
       "      <td>False</td>\n",
       "      <td>False</td>\n",
       "      <td>True</td>\n",
       "      <td>True</td>\n",
       "      <td>True</td>\n",
       "      <td>True</td>\n",
       "      <td>True</td>\n",
       "      <td>9</td>\n",
       "    </tr>\n",
       "    <tr>\n",
       "      <th>55</th>\n",
       "      <td>56</td>\n",
       "      <td>528240070</td>\n",
       "      <td>60</td>\n",
       "      <td>RL</td>\n",
       "      <td>NaN</td>\n",
       "      <td>7851</td>\n",
       "      <td>Pave</td>\n",
       "      <td>NaN</td>\n",
       "      <td>Reg</td>\n",
       "      <td>Lvl</td>\n",
       "      <td>...</td>\n",
       "      <td>False</td>\n",
       "      <td>False</td>\n",
       "      <td>False</td>\n",
       "      <td>False</td>\n",
       "      <td>False</td>\n",
       "      <td>False</td>\n",
       "      <td>True</td>\n",
       "      <td>True</td>\n",
       "      <td>True</td>\n",
       "      <td>7</td>\n",
       "    </tr>\n",
       "    <tr>\n",
       "      <th>79</th>\n",
       "      <td>80</td>\n",
       "      <td>531452180</td>\n",
       "      <td>60</td>\n",
       "      <td>RL</td>\n",
       "      <td>NaN</td>\n",
       "      <td>9453</td>\n",
       "      <td>Pave</td>\n",
       "      <td>NaN</td>\n",
       "      <td>IR1</td>\n",
       "      <td>Lvl</td>\n",
       "      <td>...</td>\n",
       "      <td>False</td>\n",
       "      <td>False</td>\n",
       "      <td>False</td>\n",
       "      <td>False</td>\n",
       "      <td>False</td>\n",
       "      <td>False</td>\n",
       "      <td>True</td>\n",
       "      <td>True</td>\n",
       "      <td>True</td>\n",
       "      <td>6</td>\n",
       "    </tr>\n",
       "    <tr>\n",
       "      <th>...</th>\n",
       "      <td>...</td>\n",
       "      <td>...</td>\n",
       "      <td>...</td>\n",
       "      <td>...</td>\n",
       "      <td>...</td>\n",
       "      <td>...</td>\n",
       "      <td>...</td>\n",
       "      <td>...</td>\n",
       "      <td>...</td>\n",
       "      <td>...</td>\n",
       "      <td>...</td>\n",
       "      <td>...</td>\n",
       "      <td>...</td>\n",
       "      <td>...</td>\n",
       "      <td>...</td>\n",
       "      <td>...</td>\n",
       "      <td>...</td>\n",
       "      <td>...</td>\n",
       "      <td>...</td>\n",
       "      <td>...</td>\n",
       "      <td>...</td>\n",
       "    </tr>\n",
       "    <tr>\n",
       "      <th>2913</th>\n",
       "      <td>2914</td>\n",
       "      <td>923226180</td>\n",
       "      <td>180</td>\n",
       "      <td>RM</td>\n",
       "      <td>21.0</td>\n",
       "      <td>1470</td>\n",
       "      <td>Pave</td>\n",
       "      <td>NaN</td>\n",
       "      <td>Reg</td>\n",
       "      <td>Lvl</td>\n",
       "      <td>...</td>\n",
       "      <td>True</td>\n",
       "      <td>True</td>\n",
       "      <td>False</td>\n",
       "      <td>False</td>\n",
       "      <td>True</td>\n",
       "      <td>True</td>\n",
       "      <td>True</td>\n",
       "      <td>True</td>\n",
       "      <td>True</td>\n",
       "      <td>10</td>\n",
       "    </tr>\n",
       "    <tr>\n",
       "      <th>2916</th>\n",
       "      <td>2917</td>\n",
       "      <td>923228130</td>\n",
       "      <td>180</td>\n",
       "      <td>RM</td>\n",
       "      <td>21.0</td>\n",
       "      <td>1533</td>\n",
       "      <td>Pave</td>\n",
       "      <td>NaN</td>\n",
       "      <td>Reg</td>\n",
       "      <td>Lvl</td>\n",
       "      <td>...</td>\n",
       "      <td>True</td>\n",
       "      <td>True</td>\n",
       "      <td>False</td>\n",
       "      <td>False</td>\n",
       "      <td>True</td>\n",
       "      <td>True</td>\n",
       "      <td>True</td>\n",
       "      <td>True</td>\n",
       "      <td>True</td>\n",
       "      <td>10</td>\n",
       "    </tr>\n",
       "    <tr>\n",
       "      <th>2918</th>\n",
       "      <td>2919</td>\n",
       "      <td>923228210</td>\n",
       "      <td>160</td>\n",
       "      <td>RM</td>\n",
       "      <td>21.0</td>\n",
       "      <td>1526</td>\n",
       "      <td>Pave</td>\n",
       "      <td>NaN</td>\n",
       "      <td>Reg</td>\n",
       "      <td>Lvl</td>\n",
       "      <td>...</td>\n",
       "      <td>True</td>\n",
       "      <td>True</td>\n",
       "      <td>False</td>\n",
       "      <td>False</td>\n",
       "      <td>True</td>\n",
       "      <td>True</td>\n",
       "      <td>True</td>\n",
       "      <td>False</td>\n",
       "      <td>True</td>\n",
       "      <td>9</td>\n",
       "    </tr>\n",
       "    <tr>\n",
       "      <th>2919</th>\n",
       "      <td>2920</td>\n",
       "      <td>923228260</td>\n",
       "      <td>160</td>\n",
       "      <td>RM</td>\n",
       "      <td>21.0</td>\n",
       "      <td>1936</td>\n",
       "      <td>Pave</td>\n",
       "      <td>NaN</td>\n",
       "      <td>Reg</td>\n",
       "      <td>Lvl</td>\n",
       "      <td>...</td>\n",
       "      <td>True</td>\n",
       "      <td>True</td>\n",
       "      <td>False</td>\n",
       "      <td>False</td>\n",
       "      <td>True</td>\n",
       "      <td>True</td>\n",
       "      <td>True</td>\n",
       "      <td>True</td>\n",
       "      <td>True</td>\n",
       "      <td>10</td>\n",
       "    </tr>\n",
       "    <tr>\n",
       "      <th>2927</th>\n",
       "      <td>2928</td>\n",
       "      <td>923400125</td>\n",
       "      <td>85</td>\n",
       "      <td>RL</td>\n",
       "      <td>62.0</td>\n",
       "      <td>10441</td>\n",
       "      <td>Pave</td>\n",
       "      <td>NaN</td>\n",
       "      <td>Reg</td>\n",
       "      <td>Lvl</td>\n",
       "      <td>...</td>\n",
       "      <td>True</td>\n",
       "      <td>True</td>\n",
       "      <td>False</td>\n",
       "      <td>False</td>\n",
       "      <td>True</td>\n",
       "      <td>True</td>\n",
       "      <td>True</td>\n",
       "      <td>False</td>\n",
       "      <td>False</td>\n",
       "      <td>8</td>\n",
       "    </tr>\n",
       "  </tbody>\n",
       "</table>\n",
       "<p>355 rows × 110 columns</p>\n",
       "</div>"
      ],
      "text/plain": [
       "      Order        PID  MS SubClass MS Zoning  Lot Frontage  Lot Area Street  \\\n",
       "14       15  527182190          120        RL           NaN      6820   Pave   \n",
       "22       23  527368020           60        FV           NaN      7500   Pave   \n",
       "27       28  527425090           20        RL          70.0     10500   Pave   \n",
       "55       56  528240070           60        RL           NaN      7851   Pave   \n",
       "79       80  531452180           60        RL           NaN      9453   Pave   \n",
       "...     ...        ...          ...       ...           ...       ...    ...   \n",
       "2913   2914  923226180          180        RM          21.0      1470   Pave   \n",
       "2916   2917  923228130          180        RM          21.0      1533   Pave   \n",
       "2918   2919  923228210          160        RM          21.0      1526   Pave   \n",
       "2919   2920  923228260          160        RM          21.0      1936   Pave   \n",
       "2927   2928  923400125           85        RL          62.0     10441   Pave   \n",
       "\n",
       "     Alley Lot Shape Land Contour  ... Garage Yr Blt_ismissing  \\\n",
       "14     NaN       IR1          Lvl  ...                   False   \n",
       "22     NaN       Reg          Lvl  ...                   False   \n",
       "27     NaN       Reg          Lvl  ...                    True   \n",
       "55     NaN       Reg          Lvl  ...                   False   \n",
       "79     NaN       IR1          Lvl  ...                   False   \n",
       "...    ...       ...          ...  ...                     ...   \n",
       "2913   NaN       Reg          Lvl  ...                    True   \n",
       "2916   NaN       Reg          Lvl  ...                    True   \n",
       "2918   NaN       Reg          Lvl  ...                    True   \n",
       "2919   NaN       Reg          Lvl  ...                    True   \n",
       "2927   NaN       Reg          Lvl  ...                    True   \n",
       "\n",
       "     Garage Finish_ismissing Garage Cars_ismissing Garage Area_ismissing  \\\n",
       "14                     False                 False                 False   \n",
       "22                     False                 False                 False   \n",
       "27                      True                 False                 False   \n",
       "55                     False                 False                 False   \n",
       "79                     False                 False                 False   \n",
       "...                      ...                   ...                   ...   \n",
       "2913                    True                 False                 False   \n",
       "2916                    True                 False                 False   \n",
       "2918                    True                 False                 False   \n",
       "2919                    True                 False                 False   \n",
       "2927                    True                 False                 False   \n",
       "\n",
       "     Garage Qual_ismissing Garage Cond_ismissing Pool QC_ismissing  \\\n",
       "14                   False                 False              True   \n",
       "22                   False                 False              True   \n",
       "27                    True                  True              True   \n",
       "55                   False                 False              True   \n",
       "79                   False                 False              True   \n",
       "...                    ...                   ...               ...   \n",
       "2913                  True                  True              True   \n",
       "2916                  True                  True              True   \n",
       "2918                  True                  True              True   \n",
       "2919                  True                  True              True   \n",
       "2927                  True                  True              True   \n",
       "\n",
       "     Fence_ismissing  Misc Feature_ismissing  num_missing  \n",
       "14              True                    True            6  \n",
       "22              True                    True            6  \n",
       "27              True                    True            9  \n",
       "55              True                    True            7  \n",
       "79              True                    True            6  \n",
       "...              ...                     ...          ...  \n",
       "2913            True                    True           10  \n",
       "2916            True                    True           10  \n",
       "2918           False                    True            9  \n",
       "2919            True                    True           10  \n",
       "2927           False                   False            8  \n",
       "\n",
       "[355 rows x 110 columns]"
      ]
     },
     "execution_count": 35,
     "metadata": {},
     "output_type": "execute_result"
    }
   ],
   "source": [
    "df[df['num_missing'] > 5]"
   ]
  },
  {
   "cell_type": "code",
   "execution_count": 36,
   "id": "e63bd19f",
   "metadata": {},
   "outputs": [],
   "source": [
    "# отбрасываем строки с большим количеством пропусков\n",
    "ind_missing = df[df['num_missing'] > 5].index\n",
    "df_less_missing_rows = df.drop(ind_missing, axis=0)"
   ]
  },
  {
   "cell_type": "code",
   "execution_count": 37,
   "id": "038ccfca",
   "metadata": {},
   "outputs": [
    {
     "data": {
      "text/plain": [
       "(2930, 110)"
      ]
     },
     "execution_count": 37,
     "metadata": {},
     "output_type": "execute_result"
    }
   ],
   "source": [
    "df.shape"
   ]
  },
  {
   "cell_type": "code",
   "execution_count": 38,
   "id": "7ac9b6f3",
   "metadata": {},
   "outputs": [
    {
     "data": {
      "text/plain": [
       "(2575, 110)"
      ]
     },
     "execution_count": 38,
     "metadata": {},
     "output_type": "execute_result"
    }
   ],
   "source": [
    "df_less_missing_rows.shape"
   ]
  },
  {
   "cell_type": "code",
   "execution_count": 39,
   "id": "468c1bca",
   "metadata": {},
   "outputs": [
    {
     "name": "stdout",
     "output_type": "stream",
     "text": [
      "68.0\n"
     ]
    }
   ],
   "source": [
    "# Замена медианным значением\n",
    "med = df['Lot Frontage'].median()\n",
    "print(med)\n",
    "df['Lot Frontage'] = df['Lot Frontage'].fillna(med)"
   ]
  },
  {
   "cell_type": "code",
   "execution_count": 40,
   "id": "12b99114",
   "metadata": {},
   "outputs": [
    {
     "name": "stdout",
     "output_type": "stream",
     "text": [
      "imputing missing values for: Mas Vnr Area\n",
      "imputing missing values for: BsmtFin SF 1\n",
      "imputing missing values for: BsmtFin SF 2\n",
      "imputing missing values for: Bsmt Unf SF\n",
      "imputing missing values for: Total Bsmt SF\n",
      "imputing missing values for: Bsmt Full Bath\n",
      "imputing missing values for: Bsmt Half Bath\n",
      "imputing missing values for: Garage Yr Blt\n",
      "imputing missing values for: Garage Cars\n",
      "imputing missing values for: Garage Area\n"
     ]
    }
   ],
   "source": [
    "# Замена значений на медианное значение в числовой переменной\n",
    "\n",
    "df_numeric = df.select_dtypes(include=[np.number])\n",
    "numeric_cols = df_numeric.columns.values\n",
    "for col in numeric_cols:\n",
    "    missing = df[col].isnull()\n",
    "    num_missing = np.sum(missing)\n",
    "    \n",
    "    if num_missing > 0:  # only do the imputation for the columns that have missing values.\n",
    "        print('imputing missing values for: {}'.format(col))\n",
    "        df['{}_ismissing'.format(col)] = missing\n",
    "        med = df[col].median()\n",
    "        df[col] = df[col].fillna(med)"
   ]
  },
  {
   "cell_type": "code",
   "execution_count": 41,
   "id": "256d3221",
   "metadata": {},
   "outputs": [
    {
     "name": "stdout",
     "output_type": "stream",
     "text": [
      "imputing missing values for: Alley\n",
      "imputing missing values for: Mas Vnr Type\n",
      "imputing missing values for: Bsmt Qual\n",
      "imputing missing values for: Bsmt Cond\n",
      "imputing missing values for: Bsmt Exposure\n",
      "imputing missing values for: BsmtFin Type 1\n",
      "imputing missing values for: BsmtFin Type 2\n",
      "imputing missing values for: Electrical\n",
      "imputing missing values for: Fireplace Qu\n",
      "imputing missing values for: Garage Type\n",
      "imputing missing values for: Garage Finish\n",
      "imputing missing values for: Garage Qual\n",
      "imputing missing values for: Garage Cond\n",
      "imputing missing values for: Pool QC\n",
      "imputing missing values for: Fence\n",
      "imputing missing values for: Misc Feature\n"
     ]
    }
   ],
   "source": [
    "# Замена значений на наиболее частое значение в категориальной переменной\n",
    "\n",
    "df_non_numeric = df.select_dtypes(exclude=[np.number])\n",
    "non_numeric_cols = df_non_numeric.columns.values\n",
    "for col in non_numeric_cols:\n",
    "    missing = df[col].isnull()\n",
    "    num_missing = np.sum(missing)\n",
    "    \n",
    "    if num_missing > 0:  # only do the imputation for the columns that have missing values.\n",
    "        print('imputing missing values for: {}'.format(col))\n",
    "        df['{}_ismissing'.format(col)] = missing\n",
    "        \n",
    "        top = df[col].describe()['top'] # impute with the most frequent value.\n",
    "        df[col] = df[col].fillna(top)"
   ]
  },
  {
   "cell_type": "code",
   "execution_count": 42,
   "id": "3eb35cbc",
   "metadata": {},
   "outputs": [
    {
     "name": "stdout",
     "output_type": "stream",
     "text": [
      "Order - 0%\n",
      "PID - 0%\n",
      "MS SubClass - 0%\n",
      "MS Zoning - 0%\n",
      "Lot Frontage - 0%\n",
      "Lot Area - 0%\n",
      "Street - 0%\n",
      "Alley - 0%\n",
      "Lot Shape - 0%\n",
      "Land Contour - 0%\n",
      "Utilities - 0%\n",
      "Lot Config - 0%\n",
      "Land Slope - 0%\n",
      "Neighborhood - 0%\n",
      "Condition 1 - 0%\n",
      "Condition 2 - 0%\n",
      "Bldg Type - 0%\n",
      "House Style - 0%\n",
      "Overall Qual - 0%\n",
      "Overall Cond - 0%\n",
      "Year Built - 0%\n",
      "Year Remod/Add - 0%\n",
      "Roof Style - 0%\n",
      "Roof Matl - 0%\n",
      "Exterior 1st - 0%\n",
      "Exterior 2nd - 0%\n",
      "Mas Vnr Type - 0%\n",
      "Mas Vnr Area - 0%\n",
      "Exter Qual - 0%\n",
      "Exter Cond - 0%\n",
      "Foundation - 0%\n",
      "Bsmt Qual - 0%\n",
      "Bsmt Cond - 0%\n",
      "Bsmt Exposure - 0%\n",
      "BsmtFin Type 1 - 0%\n",
      "BsmtFin SF 1 - 0%\n",
      "BsmtFin Type 2 - 0%\n",
      "BsmtFin SF 2 - 0%\n",
      "Bsmt Unf SF - 0%\n",
      "Total Bsmt SF - 0%\n",
      "Heating - 0%\n",
      "Heating QC - 0%\n",
      "Central Air - 0%\n",
      "Electrical - 0%\n",
      "1st Flr SF - 0%\n",
      "2nd Flr SF - 0%\n",
      "Low Qual Fin SF - 0%\n",
      "Gr Liv Area - 0%\n",
      "Bsmt Full Bath - 0%\n",
      "Bsmt Half Bath - 0%\n",
      "Full Bath - 0%\n",
      "Half Bath - 0%\n",
      "Bedroom AbvGr - 0%\n",
      "Kitchen AbvGr - 0%\n",
      "Kitchen Qual - 0%\n",
      "TotRms AbvGrd - 0%\n",
      "Functional - 0%\n",
      "Fireplaces - 0%\n",
      "Fireplace Qu - 0%\n",
      "Garage Type - 0%\n",
      "Garage Yr Blt - 0%\n",
      "Garage Finish - 0%\n",
      "Garage Cars - 0%\n",
      "Garage Area - 0%\n",
      "Garage Qual - 0%\n",
      "Garage Cond - 0%\n",
      "Paved Drive - 0%\n",
      "Wood Deck SF - 0%\n",
      "Open Porch SF - 0%\n",
      "Enclosed Porch - 0%\n",
      "3Ssn Porch - 0%\n",
      "Screen Porch - 0%\n",
      "Pool Area - 0%\n",
      "Pool QC - 0%\n",
      "Fence - 0%\n",
      "Misc Feature - 0%\n",
      "Misc Val - 0%\n",
      "Mo Sold - 0%\n",
      "Yr Sold - 0%\n",
      "Sale Type - 0%\n",
      "Sale Condition - 0%\n",
      "SalePrice - 0%\n",
      "Lot Frontage_ismissing - 0%\n",
      "Alley_ismissing - 0%\n",
      "Mas Vnr Type_ismissing - 0%\n",
      "Mas Vnr Area_ismissing - 0%\n",
      "Bsmt Qual_ismissing - 0%\n",
      "Bsmt Cond_ismissing - 0%\n",
      "Bsmt Exposure_ismissing - 0%\n",
      "BsmtFin Type 1_ismissing - 0%\n",
      "BsmtFin SF 1_ismissing - 0%\n",
      "BsmtFin Type 2_ismissing - 0%\n",
      "BsmtFin SF 2_ismissing - 0%\n",
      "Bsmt Unf SF_ismissing - 0%\n",
      "Total Bsmt SF_ismissing - 0%\n",
      "Electrical_ismissing - 0%\n",
      "Bsmt Full Bath_ismissing - 0%\n",
      "Bsmt Half Bath_ismissing - 0%\n",
      "Fireplace Qu_ismissing - 0%\n",
      "Garage Type_ismissing - 0%\n",
      "Garage Yr Blt_ismissing - 0%\n",
      "Garage Finish_ismissing - 0%\n",
      "Garage Cars_ismissing - 0%\n",
      "Garage Area_ismissing - 0%\n",
      "Garage Qual_ismissing - 0%\n",
      "Garage Cond_ismissing - 0%\n",
      "Pool QC_ismissing - 0%\n",
      "Fence_ismissing - 0%\n",
      "Misc Feature_ismissing - 0%\n",
      "num_missing - 0%\n"
     ]
    }
   ],
   "source": [
    "for col in df.columns:\n",
    "    pct_missing = np.mean(df[col].isnull())\n",
    "    print('{} - {}%'.format(col, round(pct_missing*100)))"
   ]
  },
  {
   "cell_type": "markdown",
   "id": "7dec43e2",
   "metadata": {
    "heading_collapsed": true
   },
   "source": [
    "### Сегментация"
   ]
  },
  {
   "cell_type": "markdown",
   "id": "25b5a4b6",
   "metadata": {
    "hidden": true
   },
   "source": [
    "https://github.com/FUlyankin/matstat_coursera/blob/main/week02_descreptive_statistics/10_python_segmentation.ipynb"
   ]
  },
  {
   "cell_type": "code",
   "execution_count": null,
   "id": "50cbcedc",
   "metadata": {
    "hidden": true
   },
   "outputs": [],
   "source": []
  },
  {
   "cell_type": "code",
   "execution_count": null,
   "id": "e3def815",
   "metadata": {
    "hidden": true
   },
   "outputs": [],
   "source": []
  }
 ],
 "metadata": {
  "hide_input": false,
  "kernelspec": {
   "display_name": "Python 3 (ipykernel)",
   "language": "python",
   "name": "python3"
  },
  "language_info": {
   "codemirror_mode": {
    "name": "ipython",
    "version": 3
   },
   "file_extension": ".py",
   "mimetype": "text/x-python",
   "name": "python",
   "nbconvert_exporter": "python",
   "pygments_lexer": "ipython3",
   "version": "3.9.7"
  },
  "toc": {
   "base_numbering": 1,
   "nav_menu": {},
   "number_sections": true,
   "sideBar": true,
   "skip_h1_title": false,
   "title_cell": "Table of Contents",
   "title_sidebar": "Contents",
   "toc_cell": false,
   "toc_position": {},
   "toc_section_display": true,
   "toc_window_display": false
  }
 },
 "nbformat": 4,
 "nbformat_minor": 5
}
